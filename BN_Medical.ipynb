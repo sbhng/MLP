{
 "cells": [
  {
   "cell_type": "code",
   "execution_count": 5,
   "id": "68b1d322",
   "metadata": {},
   "outputs": [],
   "source": [
    "import numpy as np \n",
    "import pandas as pd \n",
    "import csv\n",
    "from pgmpy.estimators import MaximumLikelihoodEstimator \n",
    "from pgmpy.models import BayesianModel\n",
    "from pgmpy.inference import VariableElimination\n",
    "\n",
    "\n"
   ]
  },
  {
   "cell_type": "code",
   "execution_count": 3,
   "id": "e3b8bc7f",
   "metadata": {},
   "outputs": [
    {
     "name": "stdout",
     "output_type": "stream",
     "text": [
      "Collecting package metadata (current_repodata.json): ...working... done\n",
      "Solving environment: ...working... done\n",
      "\n",
      "## Package Plan ##\n",
      "\n",
      "  environment location: C:\\Users\\saidu\\Anaconda3\n",
      "\n",
      "  added / updated specs:\n",
      "    - pgmpy\n",
      "\n",
      "\n",
      "The following packages will be downloaded:\n",
      "\n",
      "    package                    |            build\n",
      "    ---------------------------|-----------------\n",
      "    ca-certificates-2021.10.26 |       haa95532_2         115 KB\n",
      "    certifi-2021.10.8          |   py38haa95532_0         152 KB\n",
      "    click-8.0.3                |     pyhd3eb1b0_0          79 KB\n",
      "    pgmpy-0.1.16               |           py38_0        43.6 MB  ankurankan\n",
      "    ------------------------------------------------------------\n",
      "                                           Total:        44.0 MB\n",
      "\n",
      "The following NEW packages will be INSTALLED:\n",
      "\n",
      "  click              pkgs/main/noarch::click-8.0.3-pyhd3eb1b0_0\n",
      "  jupyter_client     pkgs/main/noarch::jupyter_client-7.0.1-pyhd3eb1b0_0\n",
      "  nbconvert          pkgs/main/win-64::nbconvert-6.1.0-py38haa95532_0\n",
      "  pgmpy              ankurankan/win-64::pgmpy-0.1.16-py38_0\n",
      "\n",
      "The following packages will be UPDATED:\n",
      "\n",
      "  ca-certificates                       2021.7.5-haa95532_1 --> 2021.10.26-haa95532_2\n",
      "  certifi                          2021.5.30-py38haa95532_0 --> 2021.10.8-py38haa95532_0\n",
      "\n",
      "\n",
      "\n",
      "Downloading and Extracting Packages\n",
      "\n",
      "click-8.0.3          | 79 KB     |            |   0% \n",
      "click-8.0.3          | 79 KB     | ##         |  20% \n",
      "click-8.0.3          | 79 KB     | ########## | 100% \n",
      "\n",
      "pgmpy-0.1.16         | 43.6 MB   |            |   0% \n",
      "pgmpy-0.1.16         | 43.6 MB   | ########## | 100% \n",
      "pgmpy-0.1.16         | 43.6 MB   | ########## | 100% \n",
      "\n",
      "ca-certificates-2021 | 115 KB    |            |   0% \n",
      "ca-certificates-2021 | 115 KB    | ########## | 100% \n",
      "ca-certificates-2021 | 115 KB    | ########## | 100% \n",
      "\n",
      "certifi-2021.10.8    | 152 KB    |            |   0% \n",
      "certifi-2021.10.8    | 152 KB    | ########## | 100% \n",
      "certifi-2021.10.8    | 152 KB    | ########## | 100% \n",
      "Preparing transaction: ...working... done\n",
      "Verifying transaction: ...working... done\n",
      "Executing transaction: ...working... done\n",
      "\n",
      "Note: you may need to restart the kernel to use updated packages.\n"
     ]
    },
    {
     "name": "stderr",
     "output_type": "stream",
     "text": [
      "\n",
      "The environment is inconsistent, please check the package plan carefully\n",
      "The following packages are causing the inconsistency:\n",
      "\n",
      "  - defaults/win-64::anaconda==custom=py38_1\n",
      "  - defaults/noarch::black==19.10b0=py_0\n",
      "  - defaults/noarch::conda-verify==3.4.2=py_1\n",
      "  - defaults/noarch::cookiecutter==1.7.2=pyhd3eb1b0_0\n",
      "  - defaults/noarch::dask==2021.8.1=pyhd3eb1b0_0\n",
      "  - defaults/win-64::distributed==2021.8.1=py38haa95532_0\n",
      "  - fastchan/noarch::fastai==2.5.2=py_0\n",
      "  - defaults/noarch::flask==1.1.2=pyhd3eb1b0_0\n",
      "  - defaults/win-64::ipykernel==6.2.0=py38haa95532_1\n",
      "  - defaults/noarch::ipywidgets==7.6.4=pyhd3eb1b0_0\n",
      "  - defaults/win-64::jupyter==1.0.0=py38_7\n",
      "  - defaults/noarch::jupyterlab==3.1.7=pyhd3eb1b0_0\n",
      "  - defaults/noarch::jupyterlab_server==2.8.1=pyhd3eb1b0_0\n",
      "  - defaults/noarch::jupyter_console==6.4.0=pyhd3eb1b0_0\n",
      "  - defaults/win-64::jupyter_server==1.4.1=py38haa95532_0\n",
      "  - defaults/noarch::nbclassic==0.2.6=pyhd3eb1b0_0\n",
      "  - defaults/noarch::nbclient==0.5.3=pyhd3eb1b0_0\n",
      "  - defaults/noarch::nltk==3.6.3=pyhd3eb1b0_0\n",
      "  - defaults/win-64::notebook==6.4.3=py38haa95532_0\n",
      "  - defaults/noarch::pathy==0.6.0=pyhd3eb1b0_0\n",
      "  - defaults/noarch::pyls-black==0.4.6=hd3eb1b0_0\n",
      "  - defaults/noarch::qtconsole==5.1.1=pyhd3eb1b0_0\n",
      "  - fastchan/win-64::spacy==3.0.3=py38h1266d08_0\n",
      "  - defaults/win-64::spyder==5.0.5=py38haa95532_2\n",
      "  - defaults/win-64::spyder-kernels==2.0.5=py38haa95532_0\n",
      "  - fastchan/noarch::typer==0.3.1=py_0\n",
      "  - defaults/win-64::widgetsnbextension==3.5.1=py38_0\n",
      "  - defaults/win-64::_anaconda_depends==2020.07=py38_0\n",
      "  - defaults/win-64::_ipyw_jlab_nb_ext_conf==0.1.0=py38_0\n"
     ]
    }
   ],
   "source": [
    "conda install -c ankurankan pgmpy"
   ]
  },
  {
   "cell_type": "code",
   "execution_count": 6,
   "id": "bcbb7862",
   "metadata": {},
   "outputs": [],
   "source": [
    "heartDisease = pd.read_csv('heart.csv')\n",
    "heartDisease = heartDisease.replace('?',np.nan)\n"
   ]
  },
  {
   "cell_type": "code",
   "execution_count": 7,
   "id": "b9184e60",
   "metadata": {},
   "outputs": [
    {
     "data": {
      "text/html": [
       "<div>\n",
       "<style scoped>\n",
       "    .dataframe tbody tr th:only-of-type {\n",
       "        vertical-align: middle;\n",
       "    }\n",
       "\n",
       "    .dataframe tbody tr th {\n",
       "        vertical-align: top;\n",
       "    }\n",
       "\n",
       "    .dataframe thead th {\n",
       "        text-align: right;\n",
       "    }\n",
       "</style>\n",
       "<table border=\"1\" class=\"dataframe\">\n",
       "  <thead>\n",
       "    <tr style=\"text-align: right;\">\n",
       "      <th></th>\n",
       "      <th>age</th>\n",
       "      <th>sex</th>\n",
       "      <th>cp</th>\n",
       "      <th>trestbps</th>\n",
       "      <th>chol</th>\n",
       "      <th>fbs</th>\n",
       "      <th>restecg</th>\n",
       "      <th>thalach</th>\n",
       "      <th>exang</th>\n",
       "      <th>oldpeak</th>\n",
       "      <th>slope</th>\n",
       "      <th>ca</th>\n",
       "      <th>thal</th>\n",
       "      <th>heartdisease</th>\n",
       "    </tr>\n",
       "  </thead>\n",
       "  <tbody>\n",
       "    <tr>\n",
       "      <th>0</th>\n",
       "      <td>63</td>\n",
       "      <td>1</td>\n",
       "      <td>1</td>\n",
       "      <td>145</td>\n",
       "      <td>233</td>\n",
       "      <td>1</td>\n",
       "      <td>2</td>\n",
       "      <td>150</td>\n",
       "      <td>0</td>\n",
       "      <td>2.3</td>\n",
       "      <td>3</td>\n",
       "      <td>0</td>\n",
       "      <td>6</td>\n",
       "      <td>0</td>\n",
       "    </tr>\n",
       "    <tr>\n",
       "      <th>1</th>\n",
       "      <td>67</td>\n",
       "      <td>1</td>\n",
       "      <td>4</td>\n",
       "      <td>160</td>\n",
       "      <td>286</td>\n",
       "      <td>0</td>\n",
       "      <td>2</td>\n",
       "      <td>108</td>\n",
       "      <td>1</td>\n",
       "      <td>1.5</td>\n",
       "      <td>2</td>\n",
       "      <td>3</td>\n",
       "      <td>3</td>\n",
       "      <td>2</td>\n",
       "    </tr>\n",
       "    <tr>\n",
       "      <th>2</th>\n",
       "      <td>67</td>\n",
       "      <td>1</td>\n",
       "      <td>4</td>\n",
       "      <td>120</td>\n",
       "      <td>229</td>\n",
       "      <td>0</td>\n",
       "      <td>2</td>\n",
       "      <td>129</td>\n",
       "      <td>1</td>\n",
       "      <td>2.6</td>\n",
       "      <td>2</td>\n",
       "      <td>2</td>\n",
       "      <td>7</td>\n",
       "      <td>1</td>\n",
       "    </tr>\n",
       "    <tr>\n",
       "      <th>3</th>\n",
       "      <td>37</td>\n",
       "      <td>1</td>\n",
       "      <td>3</td>\n",
       "      <td>130</td>\n",
       "      <td>250</td>\n",
       "      <td>0</td>\n",
       "      <td>0</td>\n",
       "      <td>187</td>\n",
       "      <td>0</td>\n",
       "      <td>3.5</td>\n",
       "      <td>3</td>\n",
       "      <td>0</td>\n",
       "      <td>3</td>\n",
       "      <td>0</td>\n",
       "    </tr>\n",
       "    <tr>\n",
       "      <th>4</th>\n",
       "      <td>41</td>\n",
       "      <td>0</td>\n",
       "      <td>2</td>\n",
       "      <td>130</td>\n",
       "      <td>204</td>\n",
       "      <td>0</td>\n",
       "      <td>2</td>\n",
       "      <td>172</td>\n",
       "      <td>0</td>\n",
       "      <td>1.4</td>\n",
       "      <td>1</td>\n",
       "      <td>0</td>\n",
       "      <td>3</td>\n",
       "      <td>0</td>\n",
       "    </tr>\n",
       "    <tr>\n",
       "      <th>...</th>\n",
       "      <td>...</td>\n",
       "      <td>...</td>\n",
       "      <td>...</td>\n",
       "      <td>...</td>\n",
       "      <td>...</td>\n",
       "      <td>...</td>\n",
       "      <td>...</td>\n",
       "      <td>...</td>\n",
       "      <td>...</td>\n",
       "      <td>...</td>\n",
       "      <td>...</td>\n",
       "      <td>...</td>\n",
       "      <td>...</td>\n",
       "      <td>...</td>\n",
       "    </tr>\n",
       "    <tr>\n",
       "      <th>298</th>\n",
       "      <td>45</td>\n",
       "      <td>1</td>\n",
       "      <td>1</td>\n",
       "      <td>110</td>\n",
       "      <td>264</td>\n",
       "      <td>0</td>\n",
       "      <td>0</td>\n",
       "      <td>132</td>\n",
       "      <td>0</td>\n",
       "      <td>1.2</td>\n",
       "      <td>2</td>\n",
       "      <td>0</td>\n",
       "      <td>7</td>\n",
       "      <td>1</td>\n",
       "    </tr>\n",
       "    <tr>\n",
       "      <th>299</th>\n",
       "      <td>68</td>\n",
       "      <td>1</td>\n",
       "      <td>4</td>\n",
       "      <td>144</td>\n",
       "      <td>193</td>\n",
       "      <td>1</td>\n",
       "      <td>0</td>\n",
       "      <td>141</td>\n",
       "      <td>0</td>\n",
       "      <td>3.4</td>\n",
       "      <td>2</td>\n",
       "      <td>2</td>\n",
       "      <td>7</td>\n",
       "      <td>2</td>\n",
       "    </tr>\n",
       "    <tr>\n",
       "      <th>300</th>\n",
       "      <td>57</td>\n",
       "      <td>1</td>\n",
       "      <td>4</td>\n",
       "      <td>130</td>\n",
       "      <td>131</td>\n",
       "      <td>0</td>\n",
       "      <td>0</td>\n",
       "      <td>115</td>\n",
       "      <td>1</td>\n",
       "      <td>1.2</td>\n",
       "      <td>2</td>\n",
       "      <td>1</td>\n",
       "      <td>7</td>\n",
       "      <td>3</td>\n",
       "    </tr>\n",
       "    <tr>\n",
       "      <th>301</th>\n",
       "      <td>57</td>\n",
       "      <td>0</td>\n",
       "      <td>2</td>\n",
       "      <td>130</td>\n",
       "      <td>236</td>\n",
       "      <td>0</td>\n",
       "      <td>2</td>\n",
       "      <td>174</td>\n",
       "      <td>0</td>\n",
       "      <td>0.0</td>\n",
       "      <td>2</td>\n",
       "      <td>1</td>\n",
       "      <td>3</td>\n",
       "      <td>1</td>\n",
       "    </tr>\n",
       "    <tr>\n",
       "      <th>302</th>\n",
       "      <td>38</td>\n",
       "      <td>1</td>\n",
       "      <td>3</td>\n",
       "      <td>138</td>\n",
       "      <td>175</td>\n",
       "      <td>0</td>\n",
       "      <td>0</td>\n",
       "      <td>173</td>\n",
       "      <td>0</td>\n",
       "      <td>0.0</td>\n",
       "      <td>1</td>\n",
       "      <td>NaN</td>\n",
       "      <td>3</td>\n",
       "      <td>0</td>\n",
       "    </tr>\n",
       "  </tbody>\n",
       "</table>\n",
       "<p>303 rows × 14 columns</p>\n",
       "</div>"
      ],
      "text/plain": [
       "     age  sex  cp  trestbps  chol  fbs  restecg  thalach  exang  oldpeak  \\\n",
       "0     63    1   1       145   233    1        2      150      0      2.3   \n",
       "1     67    1   4       160   286    0        2      108      1      1.5   \n",
       "2     67    1   4       120   229    0        2      129      1      2.6   \n",
       "3     37    1   3       130   250    0        0      187      0      3.5   \n",
       "4     41    0   2       130   204    0        2      172      0      1.4   \n",
       "..   ...  ...  ..       ...   ...  ...      ...      ...    ...      ...   \n",
       "298   45    1   1       110   264    0        0      132      0      1.2   \n",
       "299   68    1   4       144   193    1        0      141      0      3.4   \n",
       "300   57    1   4       130   131    0        0      115      1      1.2   \n",
       "301   57    0   2       130   236    0        2      174      0      0.0   \n",
       "302   38    1   3       138   175    0        0      173      0      0.0   \n",
       "\n",
       "     slope   ca thal  heartdisease  \n",
       "0        3    0    6             0  \n",
       "1        2    3    3             2  \n",
       "2        2    2    7             1  \n",
       "3        3    0    3             0  \n",
       "4        1    0    3             0  \n",
       "..     ...  ...  ...           ...  \n",
       "298      2    0    7             1  \n",
       "299      2    2    7             2  \n",
       "300      2    1    7             3  \n",
       "301      2    1    3             1  \n",
       "302      1  NaN    3             0  \n",
       "\n",
       "[303 rows x 14 columns]"
      ]
     },
     "execution_count": 7,
     "metadata": {},
     "output_type": "execute_result"
    }
   ],
   "source": [
    "heartDisease"
   ]
  },
  {
   "cell_type": "code",
   "execution_count": 8,
   "id": "abfe9cfa",
   "metadata": {},
   "outputs": [
    {
     "name": "stdout",
     "output_type": "stream",
     "text": [
      "Sample instances from the dataset are given below\n",
      "   age  sex  cp  trestbps  chol  fbs  restecg  thalach  exang  oldpeak  slope  \\\n",
      "0   63    1   1       145   233    1        2      150      0      2.3      3   \n",
      "1   67    1   4       160   286    0        2      108      1      1.5      2   \n",
      "2   67    1   4       120   229    0        2      129      1      2.6      2   \n",
      "3   37    1   3       130   250    0        0      187      0      3.5      3   \n",
      "4   41    0   2       130   204    0        2      172      0      1.4      1   \n",
      "\n",
      "  ca thal  heartdisease  \n",
      "0  0    6             0  \n",
      "1  3    3             2  \n",
      "2  2    7             1  \n",
      "3  0    3             0  \n",
      "4  0    3             0  \n"
     ]
    }
   ],
   "source": [
    "print('Sample instances from the dataset are given below') \n",
    "\n",
    "print(heartDisease.head())"
   ]
  },
  {
   "cell_type": "code",
   "execution_count": 9,
   "id": "e8ea567c",
   "metadata": {},
   "outputs": [
    {
     "name": "stdout",
     "output_type": "stream",
     "text": [
      "\n",
      " Attributes and datatypes\n",
      "age               int64\n",
      "sex               int64\n",
      "cp                int64\n",
      "trestbps          int64\n",
      "chol              int64\n",
      "fbs               int64\n",
      "restecg           int64\n",
      "thalach           int64\n",
      "exang             int64\n",
      "oldpeak         float64\n",
      "slope             int64\n",
      "ca               object\n",
      "thal             object\n",
      "heartdisease      int64\n",
      "dtype: object\n"
     ]
    }
   ],
   "source": [
    "print('\\n Attributes and datatypes')\n",
    "print(heartDisease.dtypes)"
   ]
  },
  {
   "cell_type": "code",
   "execution_count": 10,
   "id": "aad19935",
   "metadata": {},
   "outputs": [
    {
     "name": "stderr",
     "output_type": "stream",
     "text": [
      "C:\\Users\\saidu\\Anaconda3\\lib\\site-packages\\pgmpy\\models\\BayesianModel.py:8: FutureWarning: BayesianModel has been renamed to BayesianNetwork. Please use BayesianNewtork class, BayesianModel will be removed in future.\n",
      "  warnings.warn(\n"
     ]
    }
   ],
   "source": [
    "model = BayesianModel([('age','heartdisease'),('sex','heartdisease'),(\n",
    "'exang','heartdisease'),('cp','heartdisease'),('heartdisease', 'restecg'),('heartdisease','chol')])\n"
   ]
  },
  {
   "cell_type": "code",
   "execution_count": 12,
   "id": "cc9a31a8",
   "metadata": {},
   "outputs": [
    {
     "name": "stdout",
     "output_type": "stream",
     "text": [
      "\n",
      " Learning CPD using Maximum likelihood estimators\n"
     ]
    }
   ],
   "source": [
    "print('\\n Learning CPD using Maximum likelihood estimators') \n",
    "model.fit(heartDisease,estimator=MaximumLikelihoodEstimator)"
   ]
  },
  {
   "cell_type": "code",
   "execution_count": 13,
   "id": "0829f3f8",
   "metadata": {},
   "outputs": [
    {
     "name": "stdout",
     "output_type": "stream",
     "text": [
      "\n",
      " Inferencing with Bayesian Network:\n"
     ]
    }
   ],
   "source": [
    "print('\\n Inferencing with Bayesian Network:') \n",
    "HeartDiseasetest_infer = VariableElimination(model)\n",
    "\n"
   ]
  },
  {
   "cell_type": "code",
   "execution_count": 15,
   "id": "413a3d68",
   "metadata": {},
   "outputs": [
    {
     "name": "stdout",
     "output_type": "stream",
     "text": [
      "\n",
      " 1.Probability of HeartDisease given evidence= restecg :1\n"
     ]
    },
    {
     "data": {
      "application/vnd.jupyter.widget-view+json": {
       "model_id": "065ad88b46d64600960099c2419e7a41",
       "version_major": 2,
       "version_minor": 0
      },
      "text/plain": [
       "  0%|          | 0/4 [00:00<?, ?it/s]"
      ]
     },
     "metadata": {},
     "output_type": "display_data"
    },
    {
     "data": {
      "application/vnd.jupyter.widget-view+json": {
       "model_id": "958de7ddd5694294be7b1abd38fef7c2",
       "version_major": 2,
       "version_minor": 0
      },
      "text/plain": [
       "  0%|          | 0/4 [00:00<?, ?it/s]"
      ]
     },
     "metadata": {},
     "output_type": "display_data"
    },
    {
     "name": "stdout",
     "output_type": "stream",
     "text": [
      "+-----------------+---------------------+\n",
      "| heartdisease    |   phi(heartdisease) |\n",
      "+=================+=====================+\n",
      "| heartdisease(0) |              0.1012 |\n",
      "+-----------------+---------------------+\n",
      "| heartdisease(1) |              0.0000 |\n",
      "+-----------------+---------------------+\n",
      "| heartdisease(2) |              0.2392 |\n",
      "+-----------------+---------------------+\n",
      "| heartdisease(3) |              0.2015 |\n",
      "+-----------------+---------------------+\n",
      "| heartdisease(4) |              0.4581 |\n",
      "+-----------------+---------------------+\n"
     ]
    }
   ],
   "source": [
    "print('\\n 1.Probability of HeartDisease given evidence= restecg :1')\n",
    "q1=HeartDiseasetest_infer.query(variables=['heartdisease'],evidence={'restecg':1})\n",
    "print(q1)\n",
    "\n"
   ]
  },
  {
   "cell_type": "code",
   "execution_count": 16,
   "id": "1f6ab6ba",
   "metadata": {},
   "outputs": [
    {
     "name": "stdout",
     "output_type": "stream",
     "text": [
      "\n",
      " 2.Probability of HeartDisease given evidence= cp:2 \n"
     ]
    },
    {
     "data": {
      "application/vnd.jupyter.widget-view+json": {
       "model_id": "4a6db32bd3c24722b479688b8d06b1a2",
       "version_major": 2,
       "version_minor": 0
      },
      "text/plain": [
       "  0%|          | 0/3 [00:00<?, ?it/s]"
      ]
     },
     "metadata": {},
     "output_type": "display_data"
    },
    {
     "data": {
      "application/vnd.jupyter.widget-view+json": {
       "model_id": "732f4858c81a409d8abbc17021abe9c8",
       "version_major": 2,
       "version_minor": 0
      },
      "text/plain": [
       "  0%|          | 0/3 [00:00<?, ?it/s]"
      ]
     },
     "metadata": {},
     "output_type": "display_data"
    },
    {
     "name": "stdout",
     "output_type": "stream",
     "text": [
      "+-----------------+---------------------+\n",
      "| heartdisease    |   phi(heartdisease) |\n",
      "+=================+=====================+\n",
      "| heartdisease(0) |              0.3610 |\n",
      "+-----------------+---------------------+\n",
      "| heartdisease(1) |              0.2159 |\n",
      "+-----------------+---------------------+\n",
      "| heartdisease(2) |              0.1373 |\n",
      "+-----------------+---------------------+\n",
      "| heartdisease(3) |              0.1537 |\n",
      "+-----------------+---------------------+\n",
      "| heartdisease(4) |              0.1321 |\n",
      "+-----------------+---------------------+\n"
     ]
    }
   ],
   "source": [
    "print('\\n 2.Probability of HeartDisease given evidence= cp:2 ') \n",
    "q2=HeartDiseasetest_infer.query(variables=['heartdisease'],evidence={'cp':2})\n",
    "print(q2)\n"
   ]
  },
  {
   "cell_type": "code",
   "execution_count": null,
   "id": "8dc77c0b",
   "metadata": {},
   "outputs": [],
   "source": [
    "heart.restecg"
   ]
  },
  {
   "cell_type": "code",
   "execution_count": null,
   "id": "d911e29e",
   "metadata": {},
   "outputs": [],
   "source": []
  }
 ],
 "metadata": {
  "kernelspec": {
   "display_name": "Python [conda env:root] *",
   "language": "python",
   "name": "conda-root-py"
  },
  "language_info": {
   "codemirror_mode": {
    "name": "ipython",
    "version": 3
   },
   "file_extension": ".py",
   "mimetype": "text/x-python",
   "name": "python",
   "nbconvert_exporter": "python",
   "pygments_lexer": "ipython3",
   "version": "3.8.8"
  }
 },
 "nbformat": 4,
 "nbformat_minor": 5
}
